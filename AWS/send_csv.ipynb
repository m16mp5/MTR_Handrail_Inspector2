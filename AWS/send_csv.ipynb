{
 "cells": [
  {
   "cell_type": "code",
   "execution_count": 7,
   "id": "91fe79a3",
   "metadata": {},
   "outputs": [
    {
     "name": "stdout",
     "output_type": "stream",
     "text": [
      "<Response [200]>\n"
     ]
    }
   ],
   "source": [
    "import requests\n",
    "import base64\n",
    "import os\n",
    "\n",
    "url = 'http://127.0.0.1:8000/sendData/'\n",
    "\n",
    "pierId = 43\n",
    "\n",
    "file = \"BerthingSection_20240126_152239_085.csv\"\n",
    "\n",
    "record = open(\"BerthingSection_20240126_152239_085.csv\", 'rb').read()\n",
    "record = base64.b64encode(record)\n",
    "record = record.decode('utf-8')\n",
    "jsonObj = {'pierId': pierId,'csvName': file,'__csvfile': record,}\n",
    "\n",
    "x = requests.post(url, json=jsonObj)\n",
    "print(x)"
   ]
  },
  {
   "cell_type": "code",
   "execution_count": null,
   "id": "d549349a",
   "metadata": {},
   "outputs": [],
   "source": []
  },
  {
   "cell_type": "code",
   "execution_count": null,
   "id": "690c5b9b",
   "metadata": {},
   "outputs": [],
   "source": []
  }
 ],
 "metadata": {
  "kernelspec": {
   "display_name": "Python 3 (ipykernel)",
   "language": "python",
   "name": "python3"
  },
  "language_info": {
   "codemirror_mode": {
    "name": "ipython",
    "version": 3
   },
   "file_extension": ".py",
   "mimetype": "text/x-python",
   "name": "python",
   "nbconvert_exporter": "python",
   "pygments_lexer": "ipython3",
   "version": "3.8.16"
  }
 },
 "nbformat": 4,
 "nbformat_minor": 5
}
