{
 "cells": [
  {
   "cell_type": "code",
   "execution_count": 32,
   "id": "91fe79a3",
   "metadata": {},
   "outputs": [
    {
     "name": "stdout",
     "output_type": "stream",
     "text": [
      "<Response [200]>\n"
     ]
    }
   ],
   "source": [
    "import requests\n",
    "import base64\n",
    "import os\n",
    "\n",
    "#url = 'http://127.0.0.1:8000/sendData/'\n",
    "url = 'http://handrail-portal.ddns.net/sendData/'\n",
    "\n",
    "line = \"Kwun Tong Line\"\n",
    "station = \"Lam Tin\"\n",
    "escNo = \"2\"\n",
    "position = \"Left\"\n",
    "speed = \"0.75\"\n",
    "distanceFromStartPoint = \"5\"\n",
    "fileTime = \"2024-02-10 10:57:45\"\n",
    "length = \"2\"\n",
    "width = \"3\"\n",
    "depth = \"4\"\n",
    "defectType = \"Damage\"\n",
    "photoFileName = \"abcd.jpg\"\n",
    "\n",
    "\n",
    "photo = open(\"abc.jfif\", 'rb').read()\n",
    "photo = base64.b64encode(photo)\n",
    "photo = photo.decode('utf-8')\n",
    "\n",
    "jsonObj = {'line': line,\n",
    "           'station': station,\n",
    "           'escNo': escNo,\n",
    "           'position': position,\n",
    "           'speed': speed,\n",
    "           'distanceFromStartPoint': distanceFromStartPoint,\n",
    "           'fileTime': fileTime,\n",
    "           'length': length,\n",
    "           'width': width,\n",
    "           'depth': depth,\n",
    "           'defectType': defectType,\n",
    "           'photoFileName': photoFileName,\n",
    "           '__photoFile': photo\n",
    "          }\n",
    "\n",
    "x = requests.post(url, json=jsonObj)\n",
    "print(x)"
   ]
  },
  {
   "cell_type": "code",
   "execution_count": null,
   "id": "d549349a",
   "metadata": {},
   "outputs": [],
   "source": []
  },
  {
   "cell_type": "code",
   "execution_count": null,
   "id": "690c5b9b",
   "metadata": {},
   "outputs": [],
   "source": []
  }
 ],
 "metadata": {
  "kernelspec": {
   "display_name": "Python 3 (ipykernel)",
   "language": "python",
   "name": "python3"
  },
  "language_info": {
   "codemirror_mode": {
    "name": "ipython",
    "version": 3
   },
   "file_extension": ".py",
   "mimetype": "text/x-python",
   "name": "python",
   "nbconvert_exporter": "python",
   "pygments_lexer": "ipython3",
   "version": "3.8.16"
  }
 },
 "nbformat": 4,
 "nbformat_minor": 5
}
