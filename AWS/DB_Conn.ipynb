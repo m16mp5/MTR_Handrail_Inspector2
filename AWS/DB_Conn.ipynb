{
 "cells": [
  {
   "cell_type": "code",
   "execution_count": 6,
   "id": "c141149a",
   "metadata": {},
   "outputs": [],
   "source": [
    "# Insert data in MySQL via SSH\n",
    "\n",
    "import pymysql\n",
    "import paramiko\n",
    "from sshtunnel import SSHTunnelForwarder\n",
    "\n",
    "Station_id = \"AAAAAAAAAAAAAAA\"\n",
    "Station = \"B\"\n",
    "Line = \"C\"\n",
    "\n",
    "mypkey = paramiko.RSAKey.from_private_key_file('10013828-mtr.pem')\n",
    "\n",
    "sql_hostname = '127.0.0.1'\n",
    "sql_username = 'root'\n",
    "sql_password = 'Admin@9000'\n",
    "sql_main_database = 'defectDB'\n",
    "sql_port = 3306\n",
    "\n",
    "ssh_host = 'handrail-portal.ddns.net'\n",
    "ssh_user = 'ec2-user'\n",
    "ssh_port = 22\n",
    "\n",
    "sql = \"INSERT INTO station (Station_id, Station, Line) VALUES (%s, %s, %s);\"\n",
    "val = (Station_id, Station, Line)\n",
    "\n",
    "with SSHTunnelForwarder(\n",
    "        (ssh_host, ssh_port),\n",
    "        ssh_username=ssh_user,\n",
    "        ssh_pkey=mypkey,\n",
    "        remote_bind_address=(sql_hostname, sql_port),\n",
    ") as tunnel:\n",
    "\n",
    "    db = pymysql.connect(host=sql_hostname, \n",
    "                         user=sql_username,\n",
    "                         passwd=sql_password,\n",
    "                         db=sql_main_database,\n",
    "                         port=tunnel.local_bind_port)\n",
    "    \n",
    "    cursor = db.cursor()\n",
    "    cursor.execute(sql, val)\n",
    "    db.commit()\n",
    "    cursor.close()\n",
    "    db.close()    \n",
    "    "
   ]
  },
  {
   "cell_type": "code",
   "execution_count": 5,
   "id": "2eeb84c3",
   "metadata": {},
   "outputs": [
    {
     "name": "stdout",
     "output_type": "stream",
     "text": [
      "(('TWL-01', 'CEN', 'TWL'), ('TWL-02', 'ADM', 'TWL'), ('TWL-03', 'TST', 'TWL'), ('TWL-04', 'Jordan', 'TWL'), ('TWL-05', 'YMT', 'TWL'), ('TWL-06', 'MOK', 'TWL'), ('TWL-07', 'PRE', 'TWL'), ('TWL-08', 'SSP', 'TWL'), ('TWL-09', 'CSW', 'TWL'), ('TWL-07', 'PRE', 'TWL'), ('TWL-08', 'SSP', 'TWL'), ('TWL-09', 'CSW', 'TWL'), ('TWL-10', 'LCK', 'TWL'), ('TWL-11', 'MEF', 'TWL'), ('TWL-12', 'LAK', 'TWL'), ('TWL-13', 'KWF', 'TWL'), ('TWL-14', 'KWH', 'TWL'), ('TWL-15', 'TWH', 'TWL'), ('TWL-16', 'TSW', 'TWL'))\n"
     ]
    }
   ],
   "source": [
    "# Write data in MySQL via SSH\n",
    "\n",
    "import pymysql\n",
    "import paramiko\n",
    "from sshtunnel import SSHTunnelForwarder\n",
    "\n",
    "lineName = 'TWL'\n",
    "\n",
    "mypkey = paramiko.RSAKey.from_private_key_file('10013828-mtr.pem')\n",
    "\n",
    "sql_hostname = '127.0.0.1'\n",
    "sql_username = 'root'\n",
    "sql_password = 'Admin@9000'\n",
    "sql_main_database = 'defectDB'\n",
    "sql_port = 3306\n",
    "\n",
    "ssh_host = 'handrail-portal.ddns.net'\n",
    "ssh_user = 'ec2-user'\n",
    "ssh_port = 22\n",
    "\n",
    "sql = \"SELECT * FROM `station` WHERE `Line`=%s;\"\n",
    "val = (lineName)\n",
    "\n",
    "with SSHTunnelForwarder(\n",
    "        (ssh_host, ssh_port),\n",
    "        ssh_username=ssh_user,\n",
    "        ssh_pkey=mypkey,\n",
    "        remote_bind_address=(sql_hostname, sql_port),\n",
    ") as tunnel:\n",
    "\n",
    "    db = pymysql.connect(host=sql_hostname, \n",
    "                         user=sql_username,\n",
    "                         passwd=sql_password,\n",
    "                         db=sql_main_database,\n",
    "                         port=tunnel.local_bind_port)\n",
    "    \n",
    "    cursor = db.cursor()\n",
    "    cursor.execute(sql, val)\n",
    "    result = cursor.fetchall()\n",
    "    cursor.close()\n",
    "    db.close()   \n",
    "\n",
    "print(result)    "
   ]
  },
  {
   "cell_type": "code",
   "execution_count": null,
   "id": "da50537c",
   "metadata": {},
   "outputs": [],
   "source": []
  }
 ],
 "metadata": {
  "kernelspec": {
   "display_name": "Python 3 (ipykernel)",
   "language": "python",
   "name": "python3"
  },
  "language_info": {
   "codemirror_mode": {
    "name": "ipython",
    "version": 3
   },
   "file_extension": ".py",
   "mimetype": "text/x-python",
   "name": "python",
   "nbconvert_exporter": "python",
   "pygments_lexer": "ipython3",
   "version": "3.8.16"
  }
 },
 "nbformat": 4,
 "nbformat_minor": 5
}
